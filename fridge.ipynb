{
 "cells": [
  {
   "cell_type": "code",
   "execution_count": 78,
   "metadata": {},
   "outputs": [],
   "source": [
    "from decimal import Decimal\n",
    "from datetime import datetime"
   ]
  },
  {
   "cell_type": "code",
   "execution_count": 98,
   "metadata": {},
   "outputs": [],
   "source": [
    "goods = {\n",
    "    'Пельмени Универсальные': [\n",
    "        {'amount': Decimal('0.5'), 'expiration_date': datetime(2023, 7, 15)},\n",
    "        {'amount': Decimal('2'), 'expiration_date': datetime(2023, 8, 1)}\n",
    "    ],\n",
    "    'Вода': [{'amount': Decimal('1.5'), 'expiration_date': None}]\n",
    "}"
   ]
  },
  {
   "cell_type": "markdown",
   "metadata": {},
   "source": [
    "### Функция add()"
   ]
  },
  {
   "cell_type": "code",
   "execution_count": 3,
   "metadata": {},
   "outputs": [],
   "source": [
    "def add(items, title, amount, expiration_date=None):\n",
    "    parsed_dt = datetime.strptime(expiration_date, '%Y-%m-%d') if isinstance(expiration_date, str) == True else None\n",
    "    if title in items:\n",
    "        items[title].append({'amount': amount, 'expiration_date': parsed_dt})\n",
    "    else:    \n",
    "        items.update(\n",
    "            {title: [{'amount': amount, 'expiration_date': parsed_dt}]})"
   ]
  },
  {
   "cell_type": "markdown",
   "metadata": {},
   "source": [
    "Данные для проверки"
   ]
  },
  {
   "cell_type": "code",
   "execution_count": null,
   "metadata": {},
   "outputs": [],
   "source": [
    "add(goods, 'Пельмени Универсальные', Decimal('2'), '2023-10-28')\n",
    "add(goods, 'Яйца', Decimal('1'), '2023-9-30')\n",
    "add(goods, 'Яйца', Decimal('3'), '2023-10-15')\n",
    "add(goods, 'Вода', Decimal('2.5'))\n",
    "goods"
   ]
  },
  {
   "cell_type": "markdown",
   "metadata": {},
   "source": [
    "### Функция add_by_note()"
   ]
  },
  {
   "cell_type": "code",
   "execution_count": 74,
   "metadata": {},
   "outputs": [],
   "source": [
    "def add_by_note(items, note):\n",
    "    parsed_note = tuple(note.split(' '))\n",
    "    add(items, parsed_note[0], Decimal(parsed_note[1]), parsed_note[2]) "
   ]
  },
  {
   "cell_type": "code",
   "execution_count": null,
   "metadata": {},
   "outputs": [],
   "source": [
    "note = 'Яйца 4 2023-07-15' \n",
    "add_by_note(goods, note)\n",
    "goods"
   ]
  },
  {
   "cell_type": "markdown",
   "metadata": {},
   "source": [
    "### Функция find()"
   ]
  },
  {
   "cell_type": "code",
   "execution_count": 117,
   "metadata": {},
   "outputs": [],
   "source": [
    "def find(items, needle):\n",
    "\n",
    "    search_result = []\n",
    "    for item in items:\n",
    "\n",
    "        if needle.lower() in item.lower():\n",
    "            search_result.append(item)\n",
    "        else:\n",
    "            pass\n",
    "        \n",
    "    return search_result"
   ]
  },
  {
   "cell_type": "code",
   "execution_count": 118,
   "metadata": {},
   "outputs": [
    {
     "name": "stdout",
     "output_type": "stream",
     "text": [
      "['Яйца']\n"
     ]
    }
   ],
   "source": [
    "print(find(goods, 'я'))"
   ]
  },
  {
   "cell_type": "markdown",
   "metadata": {},
   "source": [
    "### Функция amount()"
   ]
  },
  {
   "cell_type": "code",
   "execution_count": 119,
   "metadata": {},
   "outputs": [],
   "source": [
    "def amount(items, needle):\n",
    "\n",
    "    list = items[needle.title()]\n",
    "    \n",
    "    total = 0\n",
    "\n",
    "    for element in list:\n",
    "        total += element['amount']\n",
    "\n",
    "    return print(f'Количество в холодильние: {total}')"
   ]
  },
  {
   "cell_type": "code",
   "execution_count": 120,
   "metadata": {},
   "outputs": [
    {
     "name": "stdout",
     "output_type": "stream",
     "text": [
      "Количество в холодильние: 8\n"
     ]
    }
   ],
   "source": [
    "amount(goods, 'яйца')"
   ]
  }
 ],
 "metadata": {
  "kernelspec": {
   "display_name": "base",
   "language": "python",
   "name": "python3"
  },
  "language_info": {
   "codemirror_mode": {
    "name": "ipython",
    "version": 3
   },
   "file_extension": ".py",
   "mimetype": "text/x-python",
   "name": "python",
   "nbconvert_exporter": "python",
   "pygments_lexer": "ipython3",
   "version": "3.9.12"
  }
 },
 "nbformat": 4,
 "nbformat_minor": 2
}
