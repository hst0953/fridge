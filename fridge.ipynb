{
 "cells": [
  {
   "cell_type": "code",
   "execution_count": 78,
   "metadata": {},
   "outputs": [],
   "source": [
    "from decimal import Decimal\n",
    "from datetime import datetime"
   ]
  },
  {
   "cell_type": "code",
   "execution_count": 98,
   "metadata": {},
   "outputs": [],
   "source": [
    "goods = {\n",
    "    'Пельмени Универсальные': [\n",
    "        {'amount': Decimal('0.5'), 'expiration_date': datetime(2023, 7, 15)},\n",
    "        {'amount': Decimal('2'), 'expiration_date': datetime(2023, 8, 1)}\n",
    "    ],\n",
    "    'Вода': [{'amount': Decimal('1.5'), 'expiration_date': None}]\n",
    "}"
   ]
  },
  {
   "cell_type": "markdown",
   "metadata": {},
   "source": [
    "### Функция add()"
   ]
  },
  {
   "cell_type": "code",
   "execution_count": 121,
   "metadata": {},
   "outputs": [],
   "source": [
    "def add(items, title, amount, expiration_date=None):\n",
    "    \n",
    "    parsed_dt = datetime.strptime(expiration_date, '%Y-%m-%d') if isinstance(expiration_date, str) == True else None\n",
    "\n",
    "    if title in items:\n",
    "        items[title].append({'amount': amount, 'expiration_date': parsed_dt})\n",
    "    else:    \n",
    "        items.update(\n",
    "            {title: [{'amount': amount, 'expiration_date': parsed_dt}]})"
   ]
  },
  {
   "cell_type": "markdown",
   "metadata": {},
   "source": [
    "Данные для проверки"
   ]
  },
  {
   "cell_type": "code",
   "execution_count": null,
   "metadata": {},
   "outputs": [],
   "source": [
    "add(goods, 'Пельмени Универсальные', Decimal('2'), '2023-10-28')\n",
    "add(goods, 'Яйца', Decimal('1'), '2023-9-30')\n",
    "add(goods, 'Яйца', Decimal('3'), '2023-10-15')\n",
    "add(goods, 'Вода', Decimal('2.5'))\n",
    "goods"
   ]
  },
  {
   "cell_type": "markdown",
   "metadata": {},
   "source": [
    "### Функция add_by_note()"
   ]
  },
  {
   "cell_type": "code",
   "execution_count": 74,
   "metadata": {},
   "outputs": [],
   "source": [
    "def add_by_note(items, note):\n",
    "    parsed_note = tuple(note.split(' '))\n",
    "    add(items, parsed_note[0], Decimal(parsed_note[1]), parsed_note[2]) "
   ]
  },
  {
   "cell_type": "code",
   "execution_count": null,
   "metadata": {},
   "outputs": [],
   "source": [
    "note = 'Яйца 4 2023-07-15' \n",
    "add_by_note(goods, note)\n",
    "goods"
   ]
  },
  {
   "cell_type": "markdown",
   "metadata": {},
   "source": [
    "### Функция find()"
   ]
  },
  {
   "cell_type": "code",
   "execution_count": 124,
   "metadata": {},
   "outputs": [],
   "source": [
    "def find(items, needle):\n",
    "\n",
    "    search_result = []\n",
    "    for item in items:\n",
    "\n",
    "        if needle.lower() in item.lower():\n",
    "            search_result.append(item)\n",
    "        else:\n",
    "            pass\n",
    "        \n",
    "    return search_result"
   ]
  },
  {
   "cell_type": "code",
   "execution_count": 125,
   "metadata": {},
   "outputs": [
    {
     "name": "stdout",
     "output_type": "stream",
     "text": [
      "['Яйца']\n"
     ]
    }
   ],
   "source": [
    "print(find(goods, 'я'))"
   ]
  },
  {
   "cell_type": "markdown",
   "metadata": {},
   "source": [
    "### Функция amount()"
   ]
  },
  {
   "cell_type": "code",
   "execution_count": 119,
   "metadata": {},
   "outputs": [],
   "source": [
    "def amount(items, needle):\n",
    "\n",
    "    list = items[needle.title()]\n",
    "    \n",
    "    total = 0\n",
    "\n",
    "    for element in list:\n",
    "        total += element['amount']\n",
    "\n",
    "    return print(f'Количество в холодильние: {total}')"
   ]
  },
  {
   "cell_type": "code",
   "execution_count": 120,
   "metadata": {},
   "outputs": [
    {
     "name": "stdout",
     "output_type": "stream",
     "text": [
      "Количество в холодильние: 8\n"
     ]
    }
   ],
   "source": [
    "amount(goods, 'яйца')"
   ]
  },
  {
   "cell_type": "markdown",
   "metadata": {},
   "source": [
    "### Функция expire()"
   ]
  },
  {
   "cell_type": "code",
   "execution_count": 3,
   "metadata": {},
   "outputs": [],
   "source": [
    "import datetime as dt\n",
    "from decimal import Decimal"
   ]
  },
  {
   "cell_type": "code",
   "execution_count": 148,
   "metadata": {},
   "outputs": [],
   "source": [
    "goods = {\n",
    "    'Хлеб': [\n",
    "        {'amount': Decimal('1'), 'expiration_date': None},\n",
    "        {'amount': Decimal('1'), 'expiration_date': dt.date(2023, 12, 9)}\n",
    "    ],\n",
    "    'Яйца': [\n",
    "        {'amount': Decimal('2'), 'expiration_date': dt.date(2023, 12, 12)},\n",
    "        {'amount': Decimal('3'), 'expiration_date': dt.date(2023, 12, 11)}\n",
    "    ],\n",
    "    'Вода': [{'amount': Decimal('100'), 'expiration_date': None}]\n",
    "}\n"
   ]
  },
  {
   "cell_type": "code",
   "execution_count": 159,
   "metadata": {},
   "outputs": [],
   "source": [
    "def expire(items, days_in_advance=0):\n",
    "    \n",
    "    current_date = dt.date(2023, 12, 10)\n",
    "    results = []\n",
    "\n",
    "    for product, products in items.items():\n",
    "        total = Decimal()\n",
    "        for item in products:\n",
    "            if item['expiration_date'] is None:\n",
    "                continue\n",
    "            elif current_date + dt.timedelta(days=days_in_advance) >= item['expiration_date']:\n",
    "                total += item['amount']\n",
    "        results.append((product, total)) if total != 0 else None\n",
    "    return print(results)"
   ]
  },
  {
   "cell_type": "code",
   "execution_count": 158,
   "metadata": {},
   "outputs": [
    {
     "name": "stdout",
     "output_type": "stream",
     "text": [
      "[('Хлеб', Decimal('1'))]\n",
      "None\n",
      "[('Хлеб', Decimal('1')), ('Яйца', Decimal('3'))]\n",
      "None\n",
      "[('Хлеб', Decimal('1')), ('Яйца', Decimal('5'))]\n",
      "None\n"
     ]
    }
   ],
   "source": [
    "print(expire(goods))\n",
    "print(expire(goods, 1))\n",
    "print(expire(goods, 2))"
   ]
  }
 ],
 "metadata": {
  "kernelspec": {
   "display_name": "base",
   "language": "python",
   "name": "python3"
  },
  "language_info": {
   "codemirror_mode": {
    "name": "ipython",
    "version": 3
   },
   "file_extension": ".py",
   "mimetype": "text/x-python",
   "name": "python",
   "nbconvert_exporter": "python",
   "pygments_lexer": "ipython3",
   "version": "3.9.12"
  }
 },
 "nbformat": 4,
 "nbformat_minor": 2
}
