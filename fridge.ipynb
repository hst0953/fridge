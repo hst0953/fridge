{
 "cells": [
  {
   "cell_type": "code",
   "execution_count": 128,
   "metadata": {},
   "outputs": [],
   "source": [
    "from decimal import Decimal\n",
    "from datetime import datetime"
   ]
  },
  {
   "cell_type": "code",
   "execution_count": 139,
   "metadata": {},
   "outputs": [],
   "source": [
    "goods = {\n",
    "    'Пельмени Универсальные': [\n",
    "        {'amount': Decimal('0.5'), 'expiration_date': datetime(2023, 7, 15)},\n",
    "        {'amount': Decimal('2'), 'expiration_date': datetime(2023, 8, 1)}\n",
    "    ],\n",
    "    'Вода': [{'amount': Decimal('1.5'), 'expiration_date': None}]\n",
    "}"
   ]
  },
  {
   "cell_type": "code",
   "execution_count": 140,
   "metadata": {},
   "outputs": [
    {
     "data": {
      "text/plain": [
       "{'Пельмени Универсальные': [{'amount': Decimal('0.5'),\n",
       "   'expiration_date': datetime.datetime(2023, 7, 15, 0, 0)},\n",
       "  {'amount': Decimal('2'),\n",
       "   'expiration_date': datetime.datetime(2023, 8, 1, 0, 0)}],\n",
       " 'Вода': [{'amount': Decimal('1.5'), 'expiration_date': None}]}"
      ]
     },
     "execution_count": 140,
     "metadata": {},
     "output_type": "execute_result"
    }
   ],
   "source": [
    "goods"
   ]
  },
  {
   "cell_type": "markdown",
   "metadata": {},
   "source": [
    "### Функция add()"
   ]
  },
  {
   "cell_type": "code",
   "execution_count": 141,
   "metadata": {},
   "outputs": [],
   "source": [
    "def add(items, title, amount, expiration_date=None):\n",
    "    #items[title] = [{'amount': amount, 'expiration_date': expiration_date}]\n",
    "    if title in items:\n",
    "        items[title].append({'amount': amount, 'expiration_date': datetime.strptime(expiration_date, '%Y-%m-%d')})\n",
    "    else:    \n",
    "        items.update(\n",
    "            {title: [{'amount': amount, 'expiration_date': datetime.strptime(expiration_date, '%Y-%m-%d')}]}\n",
    "            )\n",
    "\n"
   ]
  },
  {
   "cell_type": "code",
   "execution_count": 142,
   "metadata": {},
   "outputs": [
    {
     "data": {
      "text/plain": [
       "{'Пельмени Универсальные': [{'amount': Decimal('0.5'),\n",
       "   'expiration_date': datetime.datetime(2023, 7, 15, 0, 0)},\n",
       "  {'amount': Decimal('2'),\n",
       "   'expiration_date': datetime.datetime(2023, 8, 1, 0, 0)},\n",
       "  {'amount': Decimal('2'),\n",
       "   'expiration_date': datetime.datetime(2023, 10, 28, 0, 0)}],\n",
       " 'Вода': [{'amount': Decimal('1.5'), 'expiration_date': None}]}"
      ]
     },
     "execution_count": 142,
     "metadata": {},
     "output_type": "execute_result"
    }
   ],
   "source": [
    "add(goods, 'Пельмени Универсальные', Decimal('2'), '2023-10-28')\n",
    "goods"
   ]
  },
  {
   "cell_type": "code",
   "execution_count": 136,
   "metadata": {},
   "outputs": [
    {
     "data": {
      "text/plain": [
       "{'Яйца': [{'amount': Decimal('10'),\n",
       "   'expiration_date': datetime.datetime(2023, 9, 30, 0, 0)}]}"
      ]
     },
     "execution_count": 136,
     "metadata": {},
     "output_type": "execute_result"
    }
   ],
   "source": [
    "goods = {}\n",
    "add(goods, 'Яйца', Decimal('10'), '2023-9-30')\n",
    "goods"
   ]
  },
  {
   "cell_type": "code",
   "execution_count": 137,
   "metadata": {},
   "outputs": [],
   "source": [
    "add(goods, 'Яйца', Decimal('3'), '2023-10-15')"
   ]
  },
  {
   "cell_type": "code",
   "execution_count": 138,
   "metadata": {},
   "outputs": [
    {
     "ename": "TypeError",
     "evalue": "strptime() argument 1 must be str, not None",
     "output_type": "error",
     "traceback": [
      "\u001b[1;31m---------------------------------------------------------------------------\u001b[0m",
      "\u001b[1;31mTypeError\u001b[0m                                 Traceback (most recent call last)",
      "Cell \u001b[1;32mIn[138], line 1\u001b[0m\n\u001b[1;32m----> 1\u001b[0m \u001b[43madd\u001b[49m\u001b[43m(\u001b[49m\u001b[43mgoods\u001b[49m\u001b[43m,\u001b[49m\u001b[43m \u001b[49m\u001b[38;5;124;43m'\u001b[39;49m\u001b[38;5;124;43mВода\u001b[39;49m\u001b[38;5;124;43m'\u001b[39;49m\u001b[43m,\u001b[49m\u001b[43m \u001b[49m\u001b[43mDecimal\u001b[49m\u001b[43m(\u001b[49m\u001b[38;5;124;43m'\u001b[39;49m\u001b[38;5;124;43m2.5\u001b[39;49m\u001b[38;5;124;43m'\u001b[39;49m\u001b[43m)\u001b[49m\u001b[43m)\u001b[49m\n\u001b[0;32m      2\u001b[0m goods\n",
      "Cell \u001b[1;32mIn[132], line 7\u001b[0m, in \u001b[0;36madd\u001b[1;34m(items, title, amount, expiration_date)\u001b[0m\n\u001b[0;32m      4\u001b[0m     items[title]\u001b[38;5;241m.\u001b[39mappend({\u001b[38;5;124m'\u001b[39m\u001b[38;5;124mamount\u001b[39m\u001b[38;5;124m'\u001b[39m: amount, \u001b[38;5;124m'\u001b[39m\u001b[38;5;124mexpiration_date\u001b[39m\u001b[38;5;124m'\u001b[39m: datetime\u001b[38;5;241m.\u001b[39mstrptime(expiration_date, \u001b[38;5;124m'\u001b[39m\u001b[38;5;124m%\u001b[39m\u001b[38;5;124mY-\u001b[39m\u001b[38;5;124m%\u001b[39m\u001b[38;5;124mm-\u001b[39m\u001b[38;5;132;01m%d\u001b[39;00m\u001b[38;5;124m'\u001b[39m)})\n\u001b[0;32m      5\u001b[0m \u001b[38;5;28;01melse\u001b[39;00m:    \n\u001b[0;32m      6\u001b[0m     items\u001b[38;5;241m.\u001b[39mupdate(\n\u001b[1;32m----> 7\u001b[0m         {title: [{\u001b[38;5;124m'\u001b[39m\u001b[38;5;124mamount\u001b[39m\u001b[38;5;124m'\u001b[39m: amount, \u001b[38;5;124m'\u001b[39m\u001b[38;5;124mexpiration_date\u001b[39m\u001b[38;5;124m'\u001b[39m: \u001b[43mdatetime\u001b[49m\u001b[38;5;241;43m.\u001b[39;49m\u001b[43mstrptime\u001b[49m\u001b[43m(\u001b[49m\u001b[43mexpiration_date\u001b[49m\u001b[43m,\u001b[49m\u001b[43m \u001b[49m\u001b[38;5;124;43m'\u001b[39;49m\u001b[38;5;124;43m%\u001b[39;49m\u001b[38;5;124;43mY-\u001b[39;49m\u001b[38;5;124;43m%\u001b[39;49m\u001b[38;5;124;43mm-\u001b[39;49m\u001b[38;5;132;43;01m%d\u001b[39;49;00m\u001b[38;5;124;43m'\u001b[39;49m\u001b[43m)\u001b[49m}]}\n\u001b[0;32m      8\u001b[0m         )\n",
      "\u001b[1;31mTypeError\u001b[0m: strptime() argument 1 must be str, not None"
     ]
    }
   ],
   "source": [
    "add(goods, 'Вода', Decimal('2.5'))\n",
    "goods"
   ]
  }
 ],
 "metadata": {
  "kernelspec": {
   "display_name": "Python 3",
   "language": "python",
   "name": "python3"
  },
  "language_info": {
   "codemirror_mode": {
    "name": "ipython",
    "version": 3
   },
   "file_extension": ".py",
   "mimetype": "text/x-python",
   "name": "python",
   "nbconvert_exporter": "python",
   "pygments_lexer": "ipython3",
   "version": "3.9.13"
  }
 },
 "nbformat": 4,
 "nbformat_minor": 2
}
