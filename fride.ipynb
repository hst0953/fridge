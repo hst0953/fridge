{
 "cells": [
  {
   "cell_type": "code",
   "execution_count": 14,
   "metadata": {},
   "outputs": [],
   "source": [
    "from decimal import Decimal\n",
    "from datetime import datetime"
   ]
  },
  {
   "cell_type": "code",
   "execution_count": 15,
   "metadata": {},
   "outputs": [],
   "source": [
    "goods = {\n",
    "    'Пельмени Универсальные': [\n",
    "        {'amount': Decimal('0.5'), 'expiration_date': datetime(2023, 7, 15)},\n",
    "        {'amount': Decimal('2'), 'expiration_date': datetime(2023, 8, 1)}\n",
    "    ],\n",
    "    'Вода': [{'amount': Decimal('1.5'), 'expiration_date': None}]\n",
    "}"
   ]
  }
 ],
 "metadata": {
  "kernelspec": {
   "display_name": "Python 3",
   "language": "python",
   "name": "python3"
  },
  "language_info": {
   "codemirror_mode": {
    "name": "ipython",
    "version": 3
   },
   "file_extension": ".py",
   "mimetype": "text/x-python",
   "name": "python",
   "nbconvert_exporter": "python",
   "pygments_lexer": "ipython3",
   "version": "3.9.13"
  }
 },
 "nbformat": 4,
 "nbformat_minor": 2
}
